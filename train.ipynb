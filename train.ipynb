{
 "cells": [
  {
   "cell_type": "code",
   "execution_count": 12,
   "id": "3facef84",
   "metadata": {},
   "outputs": [
    {
     "name": "stdout",
     "output_type": "stream",
     "text": [
      "Collecting pydub\n",
      "  Downloading pydub-0.25.1-py2.py3-none-any.whl.metadata (1.4 kB)\n",
      "Downloading pydub-0.25.1-py2.py3-none-any.whl (32 kB)\n",
      "Installing collected packages: pydub\n",
      "Successfully installed pydub-0.25.1\n",
      "Note: you may need to restart the kernel to use updated packages.\n"
     ]
    },
    {
     "name": "stderr",
     "output_type": "stream",
     "text": [
      "\n",
      "[notice] A new release of pip is available: 24.0 -> 25.1.1\n",
      "[notice] To update, run: python.exe -m pip install --upgrade pip\n"
     ]
    }
   ],
   "source": [
    "%pip install pydub"
   ]
  },
  {
   "cell_type": "code",
   "execution_count": null,
   "id": "ee5d4a9f",
   "metadata": {},
   "outputs": [],
   "source": [
    "import yaml\n",
    "import os\n",
    "from pydub import AudioSegment\n",
    "#from demucs.train import get_datasets \n",
    "sources = ['vocals', 'drums', 'bass', 'guitar', 'other']\n",
    "path = r'C:\\Users\\justm\\Downloads\\babyslakh_16k.tar\\babyslakh_16k'\n",
    "folders = os.listdir(path)\n",
    "output_path = os.path.join(path, 'test')\n",
    "os.makedirs(output_path, exist_ok=True)\n",
    "temp_dict = {}\n",
    "\n",
    "\n",
    "def combine_audios(source, paths, output_location):\n",
    "    if not paths:\n",
    "        return None\n",
    "    if os.path.exists(paths[0]):\n",
    "        combined = AudioSegment.from_wav(paths[0])\n",
    "    else:\n",
    "        combined = AudioSegment.silent(duration=0)\n",
    "    for p in paths[1:]:\n",
    "        try:\n",
    "            audio = AudioSegment.from_wav(p)\n",
    "            \n",
    "        except FileNotFoundError:\n",
    "            print(f\"File not found: {p}\")\n",
    "            continue\n",
    "        combined = combined.overlay(audio)\n",
    "    out_path = os.path.join(output_path,output_location)\n",
    "    if not os.path.exists(out_path):\n",
    "        os.makedirs(out_path)\n",
    "    out_path = os.path.join(out_path, f\"{source}.wav\")\n",
    "    result = combined.export(out_path, format='wav')\n",
    "    return result\n",
    "\n",
    "\n",
    "for folder in folders:\n",
    "    folder_path = os.path.join(path, folder)\n",
    "    if os.path.isdir(folder_path):\n",
    "        files = os.listdir(folder_path)\n",
    "        if 'test' in folders:\n",
    "            folders.remove('test')\n",
    "            continue\n",
    "        \n",
    "        for file in files:\n",
    "            \n",
    "            if file == 'metadata.yaml':\n",
    "                meta_path = os.path.join(folder_path, file)\n",
    "                with open(meta_path, 'r', encoding='utf-8') as f:\n",
    "                    meta = yaml.safe_load(f)\n",
    "                temp_dict = {}\n",
    "                for st in meta['stems'].keys():\n",
    "                    name = st\n",
    "                    source = meta['stems'][st]['inst_class'].lower()\n",
    "                    if source not in sources:\n",
    "                        source = 'other'\n",
    "                    wav_path = os.path.join(folder_path,'stems', st + '.wav')\n",
    "                    if temp_dict.get(source) is None:\n",
    "                        temp_dict[source] = {'paths': [wav_path]}\n",
    "                    else:\n",
    "                        temp_dict[source]['paths'].append(wav_path)\n",
    "                for s in sources:\n",
    "                    if temp_dict.get(s) is None:\n",
    "                        continue\n",
    "                    else:\n",
    "                        if len(temp_dict[s]['paths']) > 0:\n",
    "                            # Combine the audio files for this source\n",
    "                            print(f\"Combining {s} audio files...\")\n",
    "                            # Combine the audio files for this source\n",
    "                            new_out = combine_audios(s, temp_dict[s]['paths'], folder)\n",
    "                            # Clear the paths list after combining\n",
    "                            temp_dict[s]['paths'] = None\n",
    "                    new_out = combine_audios(s, temp_dict[s]['paths'], folder)\n",
    "\n",
    "                break\n",
    "\n",
    "    \n"
   ]
  }
 ],
 "metadata": {
  "kernelspec": {
   "display_name": "Python 3",
   "language": "python",
   "name": "python3"
  },
  "language_info": {
   "codemirror_mode": {
    "name": "ipython",
    "version": 3
   },
   "file_extension": ".py",
   "mimetype": "text/x-python",
   "name": "python",
   "nbconvert_exporter": "python",
   "pygments_lexer": "ipython3",
   "version": "3.11.9"
  }
 },
 "nbformat": 4,
 "nbformat_minor": 5
}
